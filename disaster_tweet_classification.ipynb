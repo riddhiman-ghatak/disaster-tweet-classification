{
 "cells": [
  {
   "cell_type": "code",
   "execution_count": 1,
   "id": "cd09ff8c",
   "metadata": {
    "_cell_guid": "b1076dfc-b9ad-4769-8c92-a6c4dae69d19",
    "_uuid": "8f2839f25d086af736a60e9eeb907d3b93b6e0e5",
    "execution": {
     "iopub.execute_input": "2022-12-31T06:34:15.665012Z",
     "iopub.status.busy": "2022-12-31T06:34:15.664515Z",
     "iopub.status.idle": "2022-12-31T06:34:15.680433Z",
     "shell.execute_reply": "2022-12-31T06:34:15.679234Z"
    },
    "papermill": {
     "duration": 0.024777,
     "end_time": "2022-12-31T06:34:15.683351",
     "exception": false,
     "start_time": "2022-12-31T06:34:15.658574",
     "status": "completed"
    },
    "tags": []
   },
   "outputs": [
    {
     "name": "stdout",
     "output_type": "stream",
     "text": [
      "/kaggle/input/nlp-getting-started/sample_submission.csv\n",
      "/kaggle/input/nlp-getting-started/train.csv\n",
      "/kaggle/input/nlp-getting-started/test.csv\n"
     ]
    }
   ],
   "source": [
    "# This Python 3 environment comes with many helpful analytics libraries installed\n",
    "# It is defined by the kaggle/python Docker image: https://github.com/kaggle/docker-python\n",
    "# For example, here's several helpful packages to load\n",
    "\n",
    "import numpy as np # linear algebra\n",
    "import pandas as pd # data processing, CSV file I/O (e.g. pd.read_csv)\n",
    "\n",
    "# Input data files are available in the read-only \"../input/\" directory\n",
    "# For example, running this (by clicking run or pressing Shift+Enter) will list all files under the input directory\n",
    "\n",
    "import os\n",
    "for dirname, _, filenames in os.walk('/kaggle/input'):\n",
    "    for filename in filenames:\n",
    "        print(os.path.join(dirname, filename))\n",
    "\n",
    "# You can write up to 20GB to the current directory (/kaggle/working/) that gets preserved as output when you create a version using \"Save & Run All\" \n",
    "# You can also write temporary files to /kaggle/temp/, but they won't be saved outside of the current session"
   ]
  },
  {
   "cell_type": "code",
   "execution_count": 2,
   "id": "3622dc48",
   "metadata": {
    "execution": {
     "iopub.execute_input": "2022-12-31T06:34:15.692798Z",
     "iopub.status.busy": "2022-12-31T06:34:15.692528Z",
     "iopub.status.idle": "2022-12-31T06:34:16.613959Z",
     "shell.execute_reply": "2022-12-31T06:34:16.613017Z"
    },
    "papermill": {
     "duration": 0.928651,
     "end_time": "2022-12-31T06:34:16.616536",
     "exception": false,
     "start_time": "2022-12-31T06:34:15.687885",
     "status": "completed"
    },
    "tags": []
   },
   "outputs": [],
   "source": [
    "from sklearn import feature_extraction, linear_model,\\\n",
    "model_selection, preprocessing"
   ]
  },
  {
   "cell_type": "code",
   "execution_count": 3,
   "id": "54acc34c",
   "metadata": {
    "execution": {
     "iopub.execute_input": "2022-12-31T06:34:16.625512Z",
     "iopub.status.busy": "2022-12-31T06:34:16.624668Z",
     "iopub.status.idle": "2022-12-31T06:34:16.690500Z",
     "shell.execute_reply": "2022-12-31T06:34:16.689506Z"
    },
    "papermill": {
     "duration": 0.072661,
     "end_time": "2022-12-31T06:34:16.692911",
     "exception": false,
     "start_time": "2022-12-31T06:34:16.620250",
     "status": "completed"
    },
    "tags": []
   },
   "outputs": [],
   "source": [
    "import pandas as pd\n",
    "train_df = pd.read_csv(\"/kaggle/input/nlp-getting-started/train.csv\")\n",
    "test_df = pd.read_csv(\"/kaggle/input/nlp-getting-started/test.csv\")"
   ]
  },
  {
   "cell_type": "code",
   "execution_count": 4,
   "id": "081309e0",
   "metadata": {
    "execution": {
     "iopub.execute_input": "2022-12-31T06:34:16.701262Z",
     "iopub.status.busy": "2022-12-31T06:34:16.700973Z",
     "iopub.status.idle": "2022-12-31T06:34:16.718168Z",
     "shell.execute_reply": "2022-12-31T06:34:16.717234Z"
    },
    "papermill": {
     "duration": 0.023613,
     "end_time": "2022-12-31T06:34:16.720137",
     "exception": false,
     "start_time": "2022-12-31T06:34:16.696524",
     "status": "completed"
    },
    "tags": []
   },
   "outputs": [
    {
     "data": {
      "text/html": [
       "<div>\n",
       "<style scoped>\n",
       "    .dataframe tbody tr th:only-of-type {\n",
       "        vertical-align: middle;\n",
       "    }\n",
       "\n",
       "    .dataframe tbody tr th {\n",
       "        vertical-align: top;\n",
       "    }\n",
       "\n",
       "    .dataframe thead th {\n",
       "        text-align: right;\n",
       "    }\n",
       "</style>\n",
       "<table border=\"1\" class=\"dataframe\">\n",
       "  <thead>\n",
       "    <tr style=\"text-align: right;\">\n",
       "      <th></th>\n",
       "      <th>id</th>\n",
       "      <th>keyword</th>\n",
       "      <th>location</th>\n",
       "      <th>text</th>\n",
       "      <th>target</th>\n",
       "    </tr>\n",
       "  </thead>\n",
       "  <tbody>\n",
       "    <tr>\n",
       "      <th>0</th>\n",
       "      <td>1</td>\n",
       "      <td>NaN</td>\n",
       "      <td>NaN</td>\n",
       "      <td>Our Deeds are the Reason of this #earthquake M...</td>\n",
       "      <td>1</td>\n",
       "    </tr>\n",
       "    <tr>\n",
       "      <th>1</th>\n",
       "      <td>4</td>\n",
       "      <td>NaN</td>\n",
       "      <td>NaN</td>\n",
       "      <td>Forest fire near La Ronge Sask. Canada</td>\n",
       "      <td>1</td>\n",
       "    </tr>\n",
       "    <tr>\n",
       "      <th>2</th>\n",
       "      <td>5</td>\n",
       "      <td>NaN</td>\n",
       "      <td>NaN</td>\n",
       "      <td>All residents asked to 'shelter in place' are ...</td>\n",
       "      <td>1</td>\n",
       "    </tr>\n",
       "    <tr>\n",
       "      <th>3</th>\n",
       "      <td>6</td>\n",
       "      <td>NaN</td>\n",
       "      <td>NaN</td>\n",
       "      <td>13,000 people receive #wildfires evacuation or...</td>\n",
       "      <td>1</td>\n",
       "    </tr>\n",
       "    <tr>\n",
       "      <th>4</th>\n",
       "      <td>7</td>\n",
       "      <td>NaN</td>\n",
       "      <td>NaN</td>\n",
       "      <td>Just got sent this photo from Ruby #Alaska as ...</td>\n",
       "      <td>1</td>\n",
       "    </tr>\n",
       "  </tbody>\n",
       "</table>\n",
       "</div>"
      ],
      "text/plain": [
       "   id keyword location                                               text  \\\n",
       "0   1     NaN      NaN  Our Deeds are the Reason of this #earthquake M...   \n",
       "1   4     NaN      NaN             Forest fire near La Ronge Sask. Canada   \n",
       "2   5     NaN      NaN  All residents asked to 'shelter in place' are ...   \n",
       "3   6     NaN      NaN  13,000 people receive #wildfires evacuation or...   \n",
       "4   7     NaN      NaN  Just got sent this photo from Ruby #Alaska as ...   \n",
       "\n",
       "   target  \n",
       "0       1  \n",
       "1       1  \n",
       "2       1  \n",
       "3       1  \n",
       "4       1  "
      ]
     },
     "execution_count": 4,
     "metadata": {},
     "output_type": "execute_result"
    }
   ],
   "source": [
    "train_df.head()\n"
   ]
  },
  {
   "cell_type": "code",
   "execution_count": 5,
   "id": "561c947a",
   "metadata": {
    "execution": {
     "iopub.execute_input": "2022-12-31T06:34:16.729597Z",
     "iopub.status.busy": "2022-12-31T06:34:16.728036Z",
     "iopub.status.idle": "2022-12-31T06:34:16.740072Z",
     "shell.execute_reply": "2022-12-31T06:34:16.739118Z"
    },
    "papermill": {
     "duration": 0.018289,
     "end_time": "2022-12-31T06:34:16.742057",
     "exception": false,
     "start_time": "2022-12-31T06:34:16.723768",
     "status": "completed"
    },
    "tags": []
   },
   "outputs": [
    {
     "data": {
      "text/plain": [
       "\"What's up man?\""
      ]
     },
     "execution_count": 5,
     "metadata": {},
     "output_type": "execute_result"
    }
   ],
   "source": [
    "train_df[train_df[\"target\"]==0][\"text\"].values[0]"
   ]
  },
  {
   "cell_type": "code",
   "execution_count": 6,
   "id": "36f1bbc2",
   "metadata": {
    "execution": {
     "iopub.execute_input": "2022-12-31T06:34:16.750920Z",
     "iopub.status.busy": "2022-12-31T06:34:16.750162Z",
     "iopub.status.idle": "2022-12-31T06:34:16.757435Z",
     "shell.execute_reply": "2022-12-31T06:34:16.756413Z"
    },
    "papermill": {
     "duration": 0.013667,
     "end_time": "2022-12-31T06:34:16.759379",
     "exception": false,
     "start_time": "2022-12-31T06:34:16.745712",
     "status": "completed"
    },
    "tags": []
   },
   "outputs": [
    {
     "data": {
      "text/plain": [
       "'Our Deeds are the Reason of this #earthquake May ALLAH Forgive us all'"
      ]
     },
     "execution_count": 6,
     "metadata": {},
     "output_type": "execute_result"
    }
   ],
   "source": [
    "train_df[train_df[\"target\"]==1][\"text\"].values[0]"
   ]
  },
  {
   "cell_type": "code",
   "execution_count": 7,
   "id": "fbcac210",
   "metadata": {
    "execution": {
     "iopub.execute_input": "2022-12-31T06:34:16.768036Z",
     "iopub.status.busy": "2022-12-31T06:34:16.767771Z",
     "iopub.status.idle": "2022-12-31T06:34:16.776275Z",
     "shell.execute_reply": "2022-12-31T06:34:16.775273Z"
    },
    "papermill": {
     "duration": 0.015009,
     "end_time": "2022-12-31T06:34:16.778172",
     "exception": false,
     "start_time": "2022-12-31T06:34:16.763163",
     "status": "completed"
    },
    "tags": []
   },
   "outputs": [],
   "source": [
    "count_vectorizer = feature_extraction.text.CountVectorizer()\n",
    "\n",
    "## let's get counts for the first 5 tweets in the data\n",
    "example_train_vectors = count_vectorizer.fit_transform(train_df[\"text\"][0:5])"
   ]
  },
  {
   "cell_type": "code",
   "execution_count": 8,
   "id": "e726c4ca",
   "metadata": {
    "execution": {
     "iopub.execute_input": "2022-12-31T06:34:16.787171Z",
     "iopub.status.busy": "2022-12-31T06:34:16.786410Z",
     "iopub.status.idle": "2022-12-31T06:34:16.963066Z",
     "shell.execute_reply": "2022-12-31T06:34:16.962095Z"
    },
    "papermill": {
     "duration": 0.183625,
     "end_time": "2022-12-31T06:34:16.965495",
     "exception": false,
     "start_time": "2022-12-31T06:34:16.781870",
     "status": "completed"
    },
    "tags": []
   },
   "outputs": [],
   "source": [
    "train_vectors = count_vectorizer.fit_transform(train_df[\"text\"])\n",
    "test_vectors = count_vectorizer.transform(test_df[\"text\"])"
   ]
  },
  {
   "cell_type": "code",
   "execution_count": 9,
   "id": "94baaf25",
   "metadata": {
    "execution": {
     "iopub.execute_input": "2022-12-31T06:34:16.979736Z",
     "iopub.status.busy": "2022-12-31T06:34:16.978903Z",
     "iopub.status.idle": "2022-12-31T06:34:16.985797Z",
     "shell.execute_reply": "2022-12-31T06:34:16.984707Z"
    },
    "papermill": {
     "duration": 0.02076,
     "end_time": "2022-12-31T06:34:16.990475",
     "exception": false,
     "start_time": "2022-12-31T06:34:16.969715",
     "status": "completed"
    },
    "tags": []
   },
   "outputs": [],
   "source": [
    "clf = linear_model.RidgeClassifier()"
   ]
  },
  {
   "cell_type": "code",
   "execution_count": 10,
   "id": "da8a511a",
   "metadata": {
    "execution": {
     "iopub.execute_input": "2022-12-31T06:34:17.004283Z",
     "iopub.status.busy": "2022-12-31T06:34:17.003898Z",
     "iopub.status.idle": "2022-12-31T06:34:17.689632Z",
     "shell.execute_reply": "2022-12-31T06:34:17.688304Z"
    },
    "papermill": {
     "duration": 0.695008,
     "end_time": "2022-12-31T06:34:17.692360",
     "exception": false,
     "start_time": "2022-12-31T06:34:16.997352",
     "status": "completed"
    },
    "tags": []
   },
   "outputs": [
    {
     "data": {
      "text/plain": [
       "array([0.59453669, 0.5642787 , 0.64082434])"
      ]
     },
     "execution_count": 10,
     "metadata": {},
     "output_type": "execute_result"
    }
   ],
   "source": [
    "scores = model_selection.cross_val_score(clf, train_vectors, train_df[\"target\"], cv=3, scoring=\"f1\")\n",
    "scores"
   ]
  },
  {
   "cell_type": "code",
   "execution_count": 11,
   "id": "4eb47e19",
   "metadata": {
    "execution": {
     "iopub.execute_input": "2022-12-31T06:34:17.707975Z",
     "iopub.status.busy": "2022-12-31T06:34:17.707390Z",
     "iopub.status.idle": "2022-12-31T06:34:18.057846Z",
     "shell.execute_reply": "2022-12-31T06:34:18.056657Z"
    },
    "papermill": {
     "duration": 0.361538,
     "end_time": "2022-12-31T06:34:18.060054",
     "exception": false,
     "start_time": "2022-12-31T06:34:17.698516",
     "status": "completed"
    },
    "tags": []
   },
   "outputs": [
    {
     "data": {
      "text/plain": [
       "RidgeClassifier()"
      ]
     },
     "execution_count": 11,
     "metadata": {},
     "output_type": "execute_result"
    }
   ],
   "source": [
    "clf.fit(train_vectors, train_df[\"target\"])"
   ]
  },
  {
   "cell_type": "code",
   "execution_count": 12,
   "id": "2e7bb59d",
   "metadata": {
    "execution": {
     "iopub.execute_input": "2022-12-31T06:34:18.081387Z",
     "iopub.status.busy": "2022-12-31T06:34:18.080796Z",
     "iopub.status.idle": "2022-12-31T06:34:18.092053Z",
     "shell.execute_reply": "2022-12-31T06:34:18.090868Z"
    },
    "papermill": {
     "duration": 0.025998,
     "end_time": "2022-12-31T06:34:18.095947",
     "exception": false,
     "start_time": "2022-12-31T06:34:18.069949",
     "status": "completed"
    },
    "tags": []
   },
   "outputs": [],
   "source": [
    "sample_submission = pd.read_csv(\"/kaggle/input/nlp-getting-started/sample_submission.csv\")"
   ]
  },
  {
   "cell_type": "code",
   "execution_count": 13,
   "id": "b2846d67",
   "metadata": {
    "execution": {
     "iopub.execute_input": "2022-12-31T06:34:18.117678Z",
     "iopub.status.busy": "2022-12-31T06:34:18.117184Z",
     "iopub.status.idle": "2022-12-31T06:34:18.126686Z",
     "shell.execute_reply": "2022-12-31T06:34:18.125498Z"
    },
    "papermill": {
     "duration": 0.024251,
     "end_time": "2022-12-31T06:34:18.130156",
     "exception": false,
     "start_time": "2022-12-31T06:34:18.105905",
     "status": "completed"
    },
    "tags": []
   },
   "outputs": [],
   "source": [
    "sample_submission[\"target\"] = clf.predict(test_vectors)"
   ]
  },
  {
   "cell_type": "code",
   "execution_count": 14,
   "id": "d0b12753",
   "metadata": {
    "execution": {
     "iopub.execute_input": "2022-12-31T06:34:18.151268Z",
     "iopub.status.busy": "2022-12-31T06:34:18.150822Z",
     "iopub.status.idle": "2022-12-31T06:34:18.168978Z",
     "shell.execute_reply": "2022-12-31T06:34:18.167821Z"
    },
    "papermill": {
     "duration": 0.032846,
     "end_time": "2022-12-31T06:34:18.172564",
     "exception": false,
     "start_time": "2022-12-31T06:34:18.139718",
     "status": "completed"
    },
    "tags": []
   },
   "outputs": [
    {
     "data": {
      "text/html": [
       "<div>\n",
       "<style scoped>\n",
       "    .dataframe tbody tr th:only-of-type {\n",
       "        vertical-align: middle;\n",
       "    }\n",
       "\n",
       "    .dataframe tbody tr th {\n",
       "        vertical-align: top;\n",
       "    }\n",
       "\n",
       "    .dataframe thead th {\n",
       "        text-align: right;\n",
       "    }\n",
       "</style>\n",
       "<table border=\"1\" class=\"dataframe\">\n",
       "  <thead>\n",
       "    <tr style=\"text-align: right;\">\n",
       "      <th></th>\n",
       "      <th>id</th>\n",
       "      <th>target</th>\n",
       "    </tr>\n",
       "  </thead>\n",
       "  <tbody>\n",
       "    <tr>\n",
       "      <th>0</th>\n",
       "      <td>0</td>\n",
       "      <td>0</td>\n",
       "    </tr>\n",
       "    <tr>\n",
       "      <th>1</th>\n",
       "      <td>2</td>\n",
       "      <td>1</td>\n",
       "    </tr>\n",
       "    <tr>\n",
       "      <th>2</th>\n",
       "      <td>3</td>\n",
       "      <td>1</td>\n",
       "    </tr>\n",
       "    <tr>\n",
       "      <th>3</th>\n",
       "      <td>9</td>\n",
       "      <td>0</td>\n",
       "    </tr>\n",
       "    <tr>\n",
       "      <th>4</th>\n",
       "      <td>11</td>\n",
       "      <td>1</td>\n",
       "    </tr>\n",
       "  </tbody>\n",
       "</table>\n",
       "</div>"
      ],
      "text/plain": [
       "   id  target\n",
       "0   0       0\n",
       "1   2       1\n",
       "2   3       1\n",
       "3   9       0\n",
       "4  11       1"
      ]
     },
     "execution_count": 14,
     "metadata": {},
     "output_type": "execute_result"
    }
   ],
   "source": [
    "sample_submission.head()"
   ]
  },
  {
   "cell_type": "code",
   "execution_count": 15,
   "id": "542e47e9",
   "metadata": {
    "execution": {
     "iopub.execute_input": "2022-12-31T06:34:18.187903Z",
     "iopub.status.busy": "2022-12-31T06:34:18.187637Z",
     "iopub.status.idle": "2022-12-31T06:34:18.196819Z",
     "shell.execute_reply": "2022-12-31T06:34:18.195988Z"
    },
    "papermill": {
     "duration": 0.017108,
     "end_time": "2022-12-31T06:34:18.198854",
     "exception": false,
     "start_time": "2022-12-31T06:34:18.181746",
     "status": "completed"
    },
    "tags": []
   },
   "outputs": [],
   "source": [
    "sample_submission.to_csv(\"submission.csv\", index=False)"
   ]
  }
 ],
 "metadata": {
  "kernelspec": {
   "display_name": "Python 3",
   "language": "python",
   "name": "python3"
  },
  "language_info": {
   "codemirror_mode": {
    "name": "ipython",
    "version": 3
   },
   "file_extension": ".py",
   "mimetype": "text/x-python",
   "name": "python",
   "nbconvert_exporter": "python",
   "pygments_lexer": "ipython3",
   "version": "3.7.12"
  },
  "papermill": {
   "default_parameters": {},
   "duration": 11.019112,
   "end_time": "2022-12-31T06:34:18.721823",
   "environment_variables": {},
   "exception": null,
   "input_path": "__notebook__.ipynb",
   "output_path": "__notebook__.ipynb",
   "parameters": {},
   "start_time": "2022-12-31T06:34:07.702711",
   "version": "2.3.4"
  }
 },
 "nbformat": 4,
 "nbformat_minor": 5
}
